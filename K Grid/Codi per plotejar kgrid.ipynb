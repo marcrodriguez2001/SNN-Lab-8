{
 "cells": [
  {
   "cell_type": "code",
   "execution_count": 2,
   "id": "d478dd9f",
   "metadata": {},
   "outputs": [],
   "source": [
    "import numpy as np\n",
    "import sisl\n",
    "import sisl.viz\n",
    "import plotly.express as px"
   ]
  },
  {
   "cell_type": "code",
   "execution_count": 3,
   "id": "da2311e9",
   "metadata": {
    "scrolled": true
   },
   "outputs": [
    {
     "name": "stdout",
     "output_type": "stream",
     "text": [
      "[-301.6146, -306.553141, -308.119011, -308.734557, -308.679007, -308.646414, -308.71743, -308.703955, -308.687223, -308.697165, -308.700793, -308.702422, -308.70326]\n"
     ]
    },
    {
     "data": {
      "application/vnd.plotly.v1+json": {
       "config": {
        "plotlyServerURL": "https://plot.ly"
       },
       "data": [
        {
         "hovertemplate": "x=%{x}<br>y=%{y}<extra></extra>",
         "legendgroup": "",
         "line": {
          "color": "#1F77B4",
          "dash": "solid"
         },
         "marker": {
          "symbol": "circle"
         },
         "mode": "lines+markers",
         "name": "",
         "orientation": "v",
         "showlegend": false,
         "type": "scatter",
         "x": [
          "1",
          "2",
          "3",
          "4",
          "5",
          "6",
          "7",
          "8",
          "9",
          "12",
          "15",
          "18",
          "21"
         ],
         "xaxis": "x",
         "y": [
          -301.6146,
          -306.553141,
          -308.119011,
          -308.734557,
          -308.679007,
          -308.646414,
          -308.71743,
          -308.703955,
          -308.687223,
          -308.697165,
          -308.700793,
          -308.702422,
          -308.70326
         ],
         "yaxis": "y"
        }
       ],
       "layout": {
        "legend": {
         "tracegroupgap": 0
        },
        "margin": {
         "t": 60
        },
        "template": {
         "layout": {
          "hovermode": "closest",
          "paper_bgcolor": "white",
          "plot_bgcolor": "white",
          "scene": {
           "xaxis": {
            "color": "black",
            "gridcolor": "#ccc",
            "gridwidth": 1,
            "linewidth": 1,
            "mirror": true,
            "showgrid": false,
            "showline": true,
            "ticklen": 5,
            "ticks": "outside",
            "ticksuffix": " ",
            "visible": true,
            "zeroline": false,
            "zerolinecolor": "#ccc",
            "zerolinewidth": 1
           },
           "yaxis": {
            "color": "black",
            "gridcolor": "#ccc",
            "gridwidth": 1,
            "linewidth": 1,
            "mirror": true,
            "showgrid": false,
            "showline": true,
            "ticklen": 5,
            "ticks": "outside",
            "ticksuffix": " ",
            "visible": true,
            "zeroline": false,
            "zerolinecolor": "#ccc",
            "zerolinewidth": 1
           },
           "zaxis": {
            "color": "black",
            "gridcolor": "#ccc",
            "gridwidth": 1,
            "linewidth": 1,
            "mirror": true,
            "showgrid": false,
            "showline": true,
            "ticklen": 5,
            "ticks": "outside",
            "ticksuffix": " ",
            "visible": true,
            "zeroline": false,
            "zerolinecolor": "#ccc",
            "zerolinewidth": 1
           }
          },
          "xaxis": {
           "color": "black",
           "gridcolor": "#ccc",
           "gridwidth": 1,
           "linewidth": 1,
           "mirror": true,
           "showgrid": false,
           "showline": true,
           "ticklen": 5,
           "ticks": "outside",
           "ticksuffix": " ",
           "visible": true,
           "zeroline": false,
           "zerolinecolor": "#ccc",
           "zerolinewidth": 1
          },
          "yaxis": {
           "color": "black",
           "gridcolor": "#ccc",
           "gridwidth": 1,
           "linewidth": 1,
           "mirror": true,
           "showgrid": false,
           "showline": true,
           "ticklen": 5,
           "ticks": "outside",
           "ticksuffix": " ",
           "visible": true,
           "zeroline": false,
           "zerolinecolor": "#ccc",
           "zerolinewidth": 1
          }
         }
        },
        "title": {
         "text": "Convergence of energy with k grid"
        },
        "xaxis": {
         "anchor": "y",
         "domain": [
          0,
          1
         ],
         "title": {
          "text": "k grid"
         }
        },
        "yaxis": {
         "anchor": "x",
         "domain": [
          0,
          1
         ],
         "title": {
          "text": "Energy [eV]"
         }
        }
       }
      },
      "text/html": [
       "<div>                            <div id=\"ed258f9c-27f1-4629-b747-58beb39371f9\" class=\"plotly-graph-div\" style=\"height:525px; width:100%;\"></div>            <script type=\"text/javascript\">                require([\"plotly\"], function(Plotly) {                    window.PLOTLYENV=window.PLOTLYENV || {};                                    if (document.getElementById(\"ed258f9c-27f1-4629-b747-58beb39371f9\")) {                    Plotly.newPlot(                        \"ed258f9c-27f1-4629-b747-58beb39371f9\",                        [{\"hovertemplate\":\"x=%{x}<br>y=%{y}<extra></extra>\",\"legendgroup\":\"\",\"line\":{\"color\":\"#1F77B4\",\"dash\":\"solid\"},\"marker\":{\"symbol\":\"circle\"},\"mode\":\"lines+markers\",\"name\":\"\",\"orientation\":\"v\",\"showlegend\":false,\"x\":[\"1\",\"2\",\"3\",\"4\",\"5\",\"6\",\"7\",\"8\",\"9\",\"12\",\"15\",\"18\",\"21\"],\"xaxis\":\"x\",\"y\":[-301.6146,-306.553141,-308.119011,-308.734557,-308.679007,-308.646414,-308.71743,-308.703955,-308.687223,-308.697165,-308.700793,-308.702422,-308.70326],\"yaxis\":\"y\",\"type\":\"scatter\"}],                        {\"template\":{\"layout\":{\"hovermode\":\"closest\",\"paper_bgcolor\":\"white\",\"plot_bgcolor\":\"white\",\"scene\":{\"xaxis\":{\"color\":\"black\",\"gridcolor\":\"#ccc\",\"gridwidth\":1,\"linewidth\":1,\"mirror\":true,\"showgrid\":false,\"showline\":true,\"ticklen\":5,\"ticks\":\"outside\",\"ticksuffix\":\" \",\"visible\":true,\"zeroline\":false,\"zerolinecolor\":\"#ccc\",\"zerolinewidth\":1},\"yaxis\":{\"color\":\"black\",\"gridcolor\":\"#ccc\",\"gridwidth\":1,\"linewidth\":1,\"mirror\":true,\"showgrid\":false,\"showline\":true,\"ticklen\":5,\"ticks\":\"outside\",\"ticksuffix\":\" \",\"visible\":true,\"zeroline\":false,\"zerolinecolor\":\"#ccc\",\"zerolinewidth\":1},\"zaxis\":{\"color\":\"black\",\"gridcolor\":\"#ccc\",\"gridwidth\":1,\"linewidth\":1,\"mirror\":true,\"showgrid\":false,\"showline\":true,\"ticklen\":5,\"ticks\":\"outside\",\"ticksuffix\":\" \",\"visible\":true,\"zeroline\":false,\"zerolinecolor\":\"#ccc\",\"zerolinewidth\":1}},\"xaxis\":{\"color\":\"black\",\"gridcolor\":\"#ccc\",\"gridwidth\":1,\"linewidth\":1,\"mirror\":true,\"showgrid\":false,\"showline\":true,\"ticklen\":5,\"ticks\":\"outside\",\"ticksuffix\":\" \",\"visible\":true,\"zeroline\":false,\"zerolinecolor\":\"#ccc\",\"zerolinewidth\":1},\"yaxis\":{\"color\":\"black\",\"gridcolor\":\"#ccc\",\"gridwidth\":1,\"linewidth\":1,\"mirror\":true,\"showgrid\":false,\"showline\":true,\"ticklen\":5,\"ticks\":\"outside\",\"ticksuffix\":\" \",\"visible\":true,\"zeroline\":false,\"zerolinecolor\":\"#ccc\",\"zerolinewidth\":1}}},\"xaxis\":{\"anchor\":\"y\",\"domain\":[0.0,1.0],\"title\":{\"text\":\"k grid\"}},\"yaxis\":{\"anchor\":\"x\",\"domain\":[0.0,1.0],\"title\":{\"text\":\"Energy [eV]\"}},\"legend\":{\"tracegroupgap\":0},\"margin\":{\"t\":60},\"title\":{\"text\":\"Convergence of energy with k grid\"}},                        {\"responsive\": true}                    ).then(function(){\n",
       "                            \n",
       "var gd = document.getElementById('ed258f9c-27f1-4629-b747-58beb39371f9');\n",
       "var x = new MutationObserver(function (mutations, observer) {{\n",
       "        var display = window.getComputedStyle(gd).display;\n",
       "        if (!display || display === 'none') {{\n",
       "            console.log([gd, 'removed!']);\n",
       "            Plotly.purge(gd);\n",
       "            observer.disconnect();\n",
       "        }}\n",
       "}});\n",
       "\n",
       "// Listen for the removal of the full notebook cells\n",
       "var notebookContainer = gd.closest('#notebook-container');\n",
       "if (notebookContainer) {{\n",
       "    x.observe(notebookContainer, {childList: true});\n",
       "}}\n",
       "\n",
       "// Listen for the clearing of the current output cell\n",
       "var outputEl = gd.closest('.output');\n",
       "if (outputEl) {{\n",
       "    x.observe(outputEl, {childList: true});\n",
       "}}\n",
       "\n",
       "                        })                };                });            </script>        </div>"
      ]
     },
     "metadata": {},
     "output_type": "display_data"
    }
   ],
   "source": [
    "# Initialize an empty list to store the energies.\n",
    "\n",
    "Es = []\n",
    "\n",
    "from pathlib import Path\n",
    "import sisl\n",
    "\n",
    "\n",
    "k_vals=[\"1\", \"2\", \"3\", \"4\", \"5\", \"6\", \"7\", \"8\", \"9\", \"12\", \"15\", \"18\", \"21\"]\n",
    "\n",
    "root= Path()\n",
    "\n",
    "# Loop over k\n",
    "for k in k_vals:#Initialize a parser for the output file (RUN.out) with sisl. From\n",
    "    # this, we will be able to read many things that are written there.\n",
    "    k_dir= root/ k\n",
    "    # See docs: https://zerothi.github.io/sisl/api/io/generated/sisl.io.siesta.outSileSiesta.html#sisl.io.siesta.outSileSiesta\n",
    "    out_file = sisl.get_sile(k_dir / \"RUN.out\")\n",
    "    # We read all the energies. This is a dictionary containing different\n",
    "    # energies, you can print it to see how it looks like.\n",
    "    energies = out_file.read_energy()\n",
    "    \n",
    "    # In particular, we care about the total energy, which we get and store in the list\n",
    "    Etot = energies['total']\n",
    "    Es.append(Etot)\n",
    "print(Es)\n",
    "\n",
    "import plotly.express as px\n",
    "fig=px.line(\n",
    "    y=Es, x=k_vals, markers=True\n",
    ").update_layout(\n",
    "    title=\"Convergence of energy with k grid\",\n",
    "    xaxis_title=\"k grid\",\n",
    "    yaxis_title=\"Energy [eV]\"\n",
    ")\n",
    "\n",
    "fig.show()\n"
   ]
  }
 ],
 "metadata": {
  "kernelspec": {
   "display_name": "Python 3 (ipykernel)",
   "language": "python",
   "name": "python3"
  },
  "language_info": {
   "codemirror_mode": {
    "name": "ipython",
    "version": 3
   },
   "file_extension": ".py",
   "mimetype": "text/x-python",
   "name": "python",
   "nbconvert_exporter": "python",
   "pygments_lexer": "ipython3",
   "version": "3.9.15"
  }
 },
 "nbformat": 4,
 "nbformat_minor": 5
}
